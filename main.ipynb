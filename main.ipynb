{
 "cells": [
  {
   "cell_type": "code",
   "execution_count": 2,
   "metadata": {
    "colab": {
     "base_uri": "https://localhost:8080/"
    },
    "id": "HDBBT-W9pmaT",
    "outputId": "9f2d7d6a-82b5-408e-e18d-d044fba6420d"
   },
   "outputs": [
    {
     "name": "stdout",
     "output_type": "stream",
     "text": [
      "Requirement already satisfied: emoji in c:\\users\\sergioxd\\appdata\\local\\programs\\python\\python311\\lib\\site-packages (2.8.0)\n",
      "Note: you may need to restart the kernel to use updated packages.\n"
     ]
    },
    {
     "name": "stderr",
     "output_type": "stream",
     "text": [
      "\n",
      "[notice] A new release of pip is available: 23.1.2 -> 23.3.2\n",
      "[notice] To update, run: python.exe -m pip install --upgrade pip\n"
     ]
    }
   ],
   "source": [
    "%pip install emoji"
   ]
  },
  {
   "cell_type": "code",
   "execution_count": 105,
   "metadata": {
    "id": "h8NVI51Wqwrh"
   },
   "outputs": [],
   "source": [
    "import pandas as pd\n",
    "import re\n",
    "\n",
    "import regex\n",
    "import emoji\n",
    "\n",
    "import numpy as np\n",
    "from collections import Counter\n",
    "\n",
    "import plotly.express as px\n",
    "import matplotlib.pyplot as plt\n",
    "from wordcloud import WordCloud, STOPWORDS"
   ]
  },
  {
   "cell_type": "markdown",
   "metadata": {
    "id": "ltYtUitmPrdD"
   },
   "source": [
    "### Paso 1: Definir funciones necesarias"
   ]
  },
  {
   "cell_type": "code",
   "execution_count": 106,
   "metadata": {},
   "outputs": [
    {
     "name": "stdout",
     "output_type": "stream",
     "text": [
      "['([+]\\\\d{2} \\\\d{3} \\\\d{3} \\\\d{3}):', '([+]\\\\d{2} \\\\d{1} \\\\d{2} \\\\d{4}-\\\\d{4}):', '([+]\\\\d{2} \\\\d{1} \\\\d{3} \\\\d{3}-\\\\d{4}):', '([+]\\\\d{2} \\\\d{1} \\\\d{4} \\\\d{2}-\\\\d{4}):', '([+]\\\\d{2} \\\\d{2} \\\\d{4} \\\\d{4}):', '([+]\\\\d{2} \\\\d{3} \\\\d{3} \\\\d{4}):', '([+]\\\\d{2} \\\\d{2} \\\\d{5}-\\\\d{4}):', '([+]\\\\d{2} \\\\d{1} \\\\d{4} \\\\d{4}):', '([+]\\\\d{2} \\\\d{3} \\\\d{7}):', '([+]\\\\d{3} \\\\d{2} \\\\d{3} \\\\d{4}):', '([+]\\\\d{2} \\\\d{3}-\\\\d{7}):', '([+]\\\\d{3} \\\\d{8}):', '([+]\\\\d{3} \\\\d{2} \\\\d{3} \\\\d{3}):', '([+]\\\\d{2} \\\\d{3} \\\\d{2} \\\\d{2} \\\\d{2}):', '([+]\\\\d{1} \\\\(\\\\d{3}\\\\) \\\\d{3}-\\\\d{4}):', '([+]\\\\d{1} \\\\(\\\\d{3}\\\\) \\\\d{3}-\\\\d{4}):', '([+]\\\\d{1} \\\\(\\\\d{3}\\\\) \\\\d{3}-\\\\d{4}):', '([+]\\\\d{1} \\\\(\\\\d{3}\\\\) \\\\d{3}-\\\\d{4}):', '([+]\\\\d{1} \\\\(\\\\d{3}\\\\) \\\\d{3}-\\\\d{4}):', '([+]\\\\d{1} \\\\(\\\\d{3}\\\\) \\\\d{3}-\\\\d{4}):', '([+]\\\\d{3} \\\\d{3}-\\\\d{4}):', '([+]\\\\d{3} \\\\d{4}-\\\\d{4}):', '([+]\\\\d{3} \\\\d{4} \\\\d{4}):', '([+]\\\\d{3} \\\\d{4} \\\\d{4}):', '([+]\\\\d{3} \\\\d{4} \\\\d{4}):', '([+]\\\\d{3} \\\\d{4} \\\\d{4}):', '([+]\\\\d{3} \\\\d{4} \\\\d{4}):', '([+]\\\\d{1} \\\\(\\\\d{3}\\\\) \\\\d{3}-\\\\d{4}):', '([+]\\\\d{1} \\\\(\\\\d{3}\\\\) \\\\d{3}-\\\\d{4}):']\n"
     ]
    }
   ],
   "source": [
    "# Obtener los patrones de los números telefónicos de países\n",
    "phone_patterns = [line.strip().split(';')[1] + \":\" for line in open('Data/phone_patterns.txt', 'r')]\n",
    "print(phone_patterns)"
   ]
  },
  {
   "cell_type": "code",
   "execution_count": 107,
   "metadata": {
    "id": "-W4h4YmcyhIy"
   },
   "outputs": [],
   "source": [
    "# Patron regex para identificar el comienzo de cada línea del txt con la fecha y la hora\n",
    "def IniciaConFechaYHora(s):\n",
    "    # Ejemplo: '6/30/23, 5:59 PM - ...'\n",
    "    # Ejemplo real: 21/4/2023, 10:19 p. m. - ...\n",
    "    patron = '^([1-9]|1[0-9]|2[0-9]|3[0-1])/([1-9]|1[0-2])/(2[0-9][0-9][0-9]), ([0-9]|1[0-2]):([0-9])([0-9])'\n",
    "    # patron = '^([1-9]|1[0-2])(\\/)([1-9]|1[0-9]|2[0-9]|3[0-1])(\\/)(2[0-9]), ([0-9]+):([0-9][0-9])\\s?([AP][M]) -'\n",
    "    resultado = re.match(patron, s)  # Verificar si cada línea del txt hace match con el patrón de fecha y hora\n",
    "    if resultado:\n",
    "        return True\n",
    "    return False\n",
    "\n",
    "# Patrón para encontrar a los miembros del grupo dentro del txt\n",
    "def EncontrarMiembro(s):\n",
    "    patrones = [\n",
    "        '([\\w]+):',                                # Nombre\n",
    "        '([\\w]+[\\s]+[\\w]+):',                      # Nombre + Apellido\n",
    "        '([\\w]+[\\s]+[\\w]+[\\s]+[\\w]+):',            # Nombre 1 + Nombre 2 + Apellido\n",
    "        '([\\w]+[\\s]+[\\w]+[\\s]+[\\w]+[\\s]+[\\w]+):',  # Nombre 1 + Nombre 2+ Nombre 3 + Apellido\n",
    "        '([\\w]+[\\s])[\\u263a-\\U0001f999]+:',        # Nombre + Emoji\n",
    "    ]\n",
    "    patrones+=phone_patterns # Se añade los patrones de los números telefónicos\n",
    "\n",
    "    patron = '^' + '|'.join(patrones)\n",
    "    resultado = re.match(patron, s)  # Verificar si cada línea del txt hace match con el patrón de miembro\n",
    "    if resultado:\n",
    "        return True\n",
    "    return False\n",
    "\n",
    "# Separar las partes de cada línea del txt: Fecha, Hora, Miembro y Mensaje\n",
    "def ObtenerPartes(linea):\n",
    "    # Ejemplo: '9/16/23, 5:59 PM - Sandreke: Todos debemos aprender a analizar datos'\n",
    "    splitLinea = linea.split(' - ')\n",
    "    FechaHora = splitLinea[0]                     # '9/16/23, 5:59 PM'\n",
    "    splitFechaHora = FechaHora.split(', ')\n",
    "    Fecha = splitFechaHora[0]                    # '9/16/23'\n",
    "    Hora = ' '.join(splitFechaHora[1:])          # '5:59 PM'\n",
    "    Mensaje = ' '.join(splitLinea[1:])             # 'Sandreke: Todos debemos aprender a analizar datos'\n",
    "    if EncontrarMiembro(Mensaje):\n",
    "        splitMensaje = Mensaje.split(': ')\n",
    "        Miembro = splitMensaje[0]               # 'Sandreke'\n",
    "        Mensaje = ' '.join(splitMensaje[1:])    # 'Todos debemos aprender a analizar datos'\n",
    "    else:\n",
    "        Miembro = None       \n",
    "    return Fecha, Hora, Miembro, Mensaje"
   ]
  },
  {
   "cell_type": "markdown",
   "metadata": {
    "id": "my-NE9PBQFzD"
   },
   "source": [
    "### Paso 2: Obtener el dataframe usando el archivo txt y las funciones definidas"
   ]
  },
  {
   "cell_type": "code",
   "execution_count": 108,
   "metadata": {
    "colab": {
     "base_uri": "https://localhost:8080/",
     "height": 423
    },
    "id": "JJ14iuRcrlyc",
    "outputId": "ba9a516c-ea03-49cd-bcb1-14efd9760e11"
   },
   "outputs": [
    {
     "data": {
      "text/html": [
       "<div>\n",
       "<style scoped>\n",
       "    .dataframe tbody tr th:only-of-type {\n",
       "        vertical-align: middle;\n",
       "    }\n",
       "\n",
       "    .dataframe tbody tr th {\n",
       "        vertical-align: top;\n",
       "    }\n",
       "\n",
       "    .dataframe thead th {\n",
       "        text-align: right;\n",
       "    }\n",
       "</style>\n",
       "<table border=\"1\" class=\"dataframe\">\n",
       "  <thead>\n",
       "    <tr style=\"text-align: right;\">\n",
       "      <th></th>\n",
       "      <th>Fecha</th>\n",
       "      <th>Hora</th>\n",
       "      <th>Miembro</th>\n",
       "      <th>Mensaje</th>\n",
       "    </tr>\n",
       "  </thead>\n",
       "  <tbody>\n",
       "    <tr>\n",
       "      <th>0</th>\n",
       "      <td>2023-10-31</td>\n",
       "      <td>12:26 AM</td>\n",
       "      <td>Sindy</td>\n",
       "      <td>https://chat.whatsapp.com/Elv3TuhRV9qLFKSOT7APSZ</td>\n",
       "    </tr>\n",
       "    <tr>\n",
       "      <th>1</th>\n",
       "      <td>2023-10-31</td>\n",
       "      <td>12:26 AM</td>\n",
       "      <td>Sindy</td>\n",
       "      <td>Falta Diego</td>\n",
       "    </tr>\n",
       "    <tr>\n",
       "      <th>2</th>\n",
       "      <td>2023-10-31</td>\n",
       "      <td>12:26 AM</td>\n",
       "      <td>Sindy</td>\n",
       "      <td>Pasen el link</td>\n",
       "    </tr>\n",
       "    <tr>\n",
       "      <th>3</th>\n",
       "      <td>2023-10-31</td>\n",
       "      <td>12:26 AM</td>\n",
       "      <td>Sindy</td>\n",
       "      <td>🤭</td>\n",
       "    </tr>\n",
       "    <tr>\n",
       "      <th>4</th>\n",
       "      <td>2023-10-31</td>\n",
       "      <td>12:26 AM</td>\n",
       "      <td>ING Frank</td>\n",
       "      <td>No lo tengo registrado</td>\n",
       "    </tr>\n",
       "    <tr>\n",
       "      <th>...</th>\n",
       "      <td>...</td>\n",
       "      <td>...</td>\n",
       "      <td>...</td>\n",
       "      <td>...</td>\n",
       "    </tr>\n",
       "    <tr>\n",
       "      <th>20065</th>\n",
       "      <td>2024-01-14</td>\n",
       "      <td>2:57 PM</td>\n",
       "      <td>Fanny</td>\n",
       "      <td>JAJAJAJAJJAJAJAJAJAAJJAAJAJAJAJAJAJAJAUJAJAJAJ...</td>\n",
       "    </tr>\n",
       "    <tr>\n",
       "      <th>20066</th>\n",
       "      <td>2024-01-14</td>\n",
       "      <td>2:57 PM</td>\n",
       "      <td>Fanny</td>\n",
       "      <td>Hey pasen esos audios</td>\n",
       "    </tr>\n",
       "    <tr>\n",
       "      <th>20067</th>\n",
       "      <td>2024-01-14</td>\n",
       "      <td>2:57 PM</td>\n",
       "      <td>Fanny</td>\n",
       "      <td>Son la Monda</td>\n",
       "    </tr>\n",
       "    <tr>\n",
       "      <th>20068</th>\n",
       "      <td>2024-01-14</td>\n",
       "      <td>2:58 PM</td>\n",
       "      <td>Dehider Geronimo</td>\n",
       "      <td>Jajaja</td>\n",
       "    </tr>\n",
       "    <tr>\n",
       "      <th>20069</th>\n",
       "      <td>2024-01-14</td>\n",
       "      <td>2:58 PM</td>\n",
       "      <td>Dehider Geronimo</td>\n",
       "      <td>&lt;Multimedia omitido&gt;</td>\n",
       "    </tr>\n",
       "  </tbody>\n",
       "</table>\n",
       "<p>20070 rows × 4 columns</p>\n",
       "</div>"
      ],
      "text/plain": [
       "           Fecha      Hora           Miembro  \\\n",
       "0     2023-10-31  12:26 AM             Sindy   \n",
       "1     2023-10-31  12:26 AM             Sindy   \n",
       "2     2023-10-31  12:26 AM             Sindy   \n",
       "3     2023-10-31  12:26 AM             Sindy   \n",
       "4     2023-10-31  12:26 AM         ING Frank   \n",
       "...          ...       ...               ...   \n",
       "20065 2024-01-14   2:57 PM             Fanny   \n",
       "20066 2024-01-14   2:57 PM             Fanny   \n",
       "20067 2024-01-14   2:57 PM             Fanny   \n",
       "20068 2024-01-14   2:58 PM  Dehider Geronimo   \n",
       "20069 2024-01-14   2:58 PM  Dehider Geronimo   \n",
       "\n",
       "                                                 Mensaje  \n",
       "0       https://chat.whatsapp.com/Elv3TuhRV9qLFKSOT7APSZ  \n",
       "1                                            Falta Diego  \n",
       "2                                          Pasen el link  \n",
       "3                                                      🤭  \n",
       "4                                 No lo tengo registrado  \n",
       "...                                                  ...  \n",
       "20065  JAJAJAJAJJAJAJAJAJAAJJAAJAJAJAJAJAJAJAUJAJAJAJ...  \n",
       "20066                              Hey pasen esos audios  \n",
       "20067                                       Son la Monda  \n",
       "20068                                             Jajaja  \n",
       "20069                               <Multimedia omitido>  \n",
       "\n",
       "[20070 rows x 4 columns]"
      ]
     },
     "execution_count": 108,
     "metadata": {},
     "output_type": "execute_result"
    }
   ],
   "source": [
    "# Leer el archivo txt descargado del chat de WhatsApp\n",
    "RutaChat = 'Data/Chat de WhatsApp con Los endeudados.txt'\n",
    "\n",
    "# Lista para almacenar los datos (Fecha, Hora, Miembro, Mensaje) de cada línea del txt\n",
    "DatosLista = []\n",
    "with open(RutaChat, encoding=\"utf-8\") as fp:\n",
    "    # fp.readline() # Eliminar primera fila relacionada al cifrado de extremo a extremo\n",
    "    Fecha, Hora, Miembro = None, None, None\n",
    "    while True:\n",
    "        linea = fp.readline()\n",
    "        if not linea:\n",
    "            break\n",
    "        linea = linea.strip()\n",
    "        # print('linea: ', linea)\n",
    "        if IniciaConFechaYHora(linea): # Si cada línea del txt coincide con el patrón fecha y hora\n",
    "            Fecha, Hora, Miembro, Mensaje = ObtenerPartes(linea) # Obtener datos de cada línea del txt\n",
    "            DatosLista.append([Fecha, Hora, Miembro, Mensaje])\n",
    "\n",
    "# Convertir la lista con los datos a dataframe\n",
    "df = pd.DataFrame(DatosLista, columns=['Fecha', 'Hora', 'Miembro', 'Mensaje'])\n",
    "\n",
    "# Cambiar la columna Fecha a formato datetime\n",
    "df['Fecha'] = pd.to_datetime(df['Fecha'], format=\"%d/%m/%Y\")\n",
    "\n",
    "# Eliminar los posibles campos vacíos del dataframe\n",
    "# y lo que no son mensajes como cambiar el asunto del grupo o agregar a alguien\n",
    "df = df.dropna()\n",
    "\n",
    "# Resetear el índice\n",
    "df.reset_index(drop=True, inplace=True)\n",
    "df"
   ]
  },
  {
   "cell_type": "markdown",
   "metadata": {},
   "source": [
    "#### Filtrar el chat por fecha de acuerdo a lo requerido"
   ]
  },
  {
   "cell_type": "code",
   "execution_count": 109,
   "metadata": {},
   "outputs": [
    {
     "data": {
      "text/html": [
       "<div>\n",
       "<style scoped>\n",
       "    .dataframe tbody tr th:only-of-type {\n",
       "        vertical-align: middle;\n",
       "    }\n",
       "\n",
       "    .dataframe tbody tr th {\n",
       "        vertical-align: top;\n",
       "    }\n",
       "\n",
       "    .dataframe thead th {\n",
       "        text-align: right;\n",
       "    }\n",
       "</style>\n",
       "<table border=\"1\" class=\"dataframe\">\n",
       "  <thead>\n",
       "    <tr style=\"text-align: right;\">\n",
       "      <th></th>\n",
       "      <th>Fecha</th>\n",
       "      <th>Hora</th>\n",
       "      <th>Miembro</th>\n",
       "      <th>Mensaje</th>\n",
       "    </tr>\n",
       "  </thead>\n",
       "  <tbody>\n",
       "    <tr>\n",
       "      <th>0</th>\n",
       "      <td>2023-10-31</td>\n",
       "      <td>12:26 AM</td>\n",
       "      <td>Sindy</td>\n",
       "      <td>https://chat.whatsapp.com/Elv3TuhRV9qLFKSOT7APSZ</td>\n",
       "    </tr>\n",
       "    <tr>\n",
       "      <th>1</th>\n",
       "      <td>2023-10-31</td>\n",
       "      <td>12:26 AM</td>\n",
       "      <td>Sindy</td>\n",
       "      <td>Falta Diego</td>\n",
       "    </tr>\n",
       "    <tr>\n",
       "      <th>2</th>\n",
       "      <td>2023-10-31</td>\n",
       "      <td>12:26 AM</td>\n",
       "      <td>Sindy</td>\n",
       "      <td>Pasen el link</td>\n",
       "    </tr>\n",
       "    <tr>\n",
       "      <th>3</th>\n",
       "      <td>2023-10-31</td>\n",
       "      <td>12:26 AM</td>\n",
       "      <td>Sindy</td>\n",
       "      <td>🤭</td>\n",
       "    </tr>\n",
       "    <tr>\n",
       "      <th>4</th>\n",
       "      <td>2023-10-31</td>\n",
       "      <td>12:26 AM</td>\n",
       "      <td>ING Frank</td>\n",
       "      <td>No lo tengo registrado</td>\n",
       "    </tr>\n",
       "    <tr>\n",
       "      <th>...</th>\n",
       "      <td>...</td>\n",
       "      <td>...</td>\n",
       "      <td>...</td>\n",
       "      <td>...</td>\n",
       "    </tr>\n",
       "    <tr>\n",
       "      <th>20065</th>\n",
       "      <td>2024-01-14</td>\n",
       "      <td>2:57 PM</td>\n",
       "      <td>Fanny</td>\n",
       "      <td>JAJAJAJAJJAJAJAJAJAAJJAAJAJAJAJAJAJAJAUJAJAJAJ...</td>\n",
       "    </tr>\n",
       "    <tr>\n",
       "      <th>20066</th>\n",
       "      <td>2024-01-14</td>\n",
       "      <td>2:57 PM</td>\n",
       "      <td>Fanny</td>\n",
       "      <td>Hey pasen esos audios</td>\n",
       "    </tr>\n",
       "    <tr>\n",
       "      <th>20067</th>\n",
       "      <td>2024-01-14</td>\n",
       "      <td>2:57 PM</td>\n",
       "      <td>Fanny</td>\n",
       "      <td>Son la Monda</td>\n",
       "    </tr>\n",
       "    <tr>\n",
       "      <th>20068</th>\n",
       "      <td>2024-01-14</td>\n",
       "      <td>2:58 PM</td>\n",
       "      <td>Dehider Geronimo</td>\n",
       "      <td>Jajaja</td>\n",
       "    </tr>\n",
       "    <tr>\n",
       "      <th>20069</th>\n",
       "      <td>2024-01-14</td>\n",
       "      <td>2:58 PM</td>\n",
       "      <td>Dehider Geronimo</td>\n",
       "      <td>&lt;Multimedia omitido&gt;</td>\n",
       "    </tr>\n",
       "  </tbody>\n",
       "</table>\n",
       "<p>20070 rows × 4 columns</p>\n",
       "</div>"
      ],
      "text/plain": [
       "           Fecha      Hora           Miembro  \\\n",
       "0     2023-10-31  12:26 AM             Sindy   \n",
       "1     2023-10-31  12:26 AM             Sindy   \n",
       "2     2023-10-31  12:26 AM             Sindy   \n",
       "3     2023-10-31  12:26 AM             Sindy   \n",
       "4     2023-10-31  12:26 AM         ING Frank   \n",
       "...          ...       ...               ...   \n",
       "20065 2024-01-14   2:57 PM             Fanny   \n",
       "20066 2024-01-14   2:57 PM             Fanny   \n",
       "20067 2024-01-14   2:57 PM             Fanny   \n",
       "20068 2024-01-14   2:58 PM  Dehider Geronimo   \n",
       "20069 2024-01-14   2:58 PM  Dehider Geronimo   \n",
       "\n",
       "                                                 Mensaje  \n",
       "0       https://chat.whatsapp.com/Elv3TuhRV9qLFKSOT7APSZ  \n",
       "1                                            Falta Diego  \n",
       "2                                          Pasen el link  \n",
       "3                                                      🤭  \n",
       "4                                 No lo tengo registrado  \n",
       "...                                                  ...  \n",
       "20065  JAJAJAJAJJAJAJAJAJAAJJAAJAJAJAJAJAJAJAUJAJAJAJ...  \n",
       "20066                              Hey pasen esos audios  \n",
       "20067                                       Son la Monda  \n",
       "20068                                             Jajaja  \n",
       "20069                               <Multimedia omitido>  \n",
       "\n",
       "[20070 rows x 4 columns]"
      ]
     },
     "execution_count": 109,
     "metadata": {},
     "output_type": "execute_result"
    }
   ],
   "source": [
    "start_date = '2023-06-01'\n",
    "end_date = '2024-01-14'\n",
    "\n",
    "df = df[(df['Fecha'] >= start_date) & (df['Fecha'] <= end_date)]\n",
    "df"
   ]
  },
  {
   "cell_type": "markdown",
   "metadata": {
    "id": "nHwN09vlwo4e"
   },
   "source": [
    "### Paso 3: Estadísticas de mensajes, multimedia, emojis y links"
   ]
  },
  {
   "cell_type": "markdown",
   "metadata": {
    "id": "k395vihvMcGE"
   },
   "source": [
    "#### Total de mensajes, multimedia, emojis y links enviados"
   ]
  },
  {
   "cell_type": "code",
   "execution_count": 110,
   "metadata": {
    "colab": {
     "base_uri": "https://localhost:8080/",
     "height": 206
    },
    "id": "2W3bTMofrtAz",
    "outputId": "7c25f98d-02be-494d-9c8c-9d35afe13a6f"
   },
   "outputs": [
    {
     "data": {
      "text/html": [
       "<div>\n",
       "<style scoped>\n",
       "    .dataframe tbody tr th:only-of-type {\n",
       "        vertical-align: middle;\n",
       "    }\n",
       "\n",
       "    .dataframe tbody tr th {\n",
       "        vertical-align: top;\n",
       "    }\n",
       "\n",
       "    .dataframe thead th {\n",
       "        text-align: right;\n",
       "    }\n",
       "</style>\n",
       "<table border=\"1\" class=\"dataframe\">\n",
       "  <thead>\n",
       "    <tr style=\"text-align: right;\">\n",
       "      <th></th>\n",
       "      <th>Cantidad</th>\n",
       "    </tr>\n",
       "    <tr>\n",
       "      <th>Tipo</th>\n",
       "      <th></th>\n",
       "    </tr>\n",
       "  </thead>\n",
       "  <tbody>\n",
       "    <tr>\n",
       "      <th>Mensajes</th>\n",
       "      <td>20070</td>\n",
       "    </tr>\n",
       "    <tr>\n",
       "      <th>Multimedia</th>\n",
       "      <td>3167</td>\n",
       "    </tr>\n",
       "    <tr>\n",
       "      <th>Emojis</th>\n",
       "      <td>887</td>\n",
       "    </tr>\n",
       "    <tr>\n",
       "      <th>Links</th>\n",
       "      <td>94</td>\n",
       "    </tr>\n",
       "    <tr>\n",
       "      <th>Encuestas</th>\n",
       "      <td>0</td>\n",
       "    </tr>\n",
       "  </tbody>\n",
       "</table>\n",
       "</div>"
      ],
      "text/plain": [
       "            Cantidad\n",
       "Tipo                \n",
       "Mensajes       20070\n",
       "Multimedia      3167\n",
       "Emojis           887\n",
       "Links             94\n",
       "Encuestas          0"
      ]
     },
     "execution_count": 110,
     "metadata": {},
     "output_type": "execute_result"
    }
   ],
   "source": [
    "def ObtenerEmojis(Mensaje):\n",
    "    emoji_lista = []\n",
    "    data = regex.findall(r'\\X', Mensaje) # Obtener lista de caracteres de cada mensaje\n",
    "    for caracter in data:\n",
    "        if caracter in emoji.EMOJI_DATA: # Obtener emojis en idioma español\n",
    "            emoji_lista.append(caracter)\n",
    "    return emoji_lista\n",
    "\n",
    "# Obtener la cantidad total de mensajes\n",
    "total_mensajes = df.shape[0]\n",
    "\n",
    "# Obtener la cantidad de archivos multimedia enviados\n",
    "multimedia_mensajes = df[df['Mensaje'] == '<Multimedia omitido>'].shape[0]\n",
    "\n",
    "# Obtener la cantidad de emojis enviados\n",
    "df['Emojis'] = df['Mensaje'].apply(ObtenerEmojis) # Se agrega columna 'Emojis'\n",
    "emojis = sum(df['Emojis'].str.len())\n",
    "\n",
    "# Obtener la cantidad de links enviados\n",
    "url_patron = r'(https?://\\S+)'\n",
    "df['URLs'] = df.Mensaje.apply(lambda x: len(re.findall(url_patron, x))) # Se agrega columna 'URLs'\n",
    "links = sum(df['URLs'])\n",
    "\n",
    "# Obtener la cantidad de encuestas\n",
    "encuestas = df[df['Mensaje'] == 'POLL:'].shape[0]\n",
    "\n",
    "# Todos los datos pasarlo a diccionario\n",
    "estadistica_dict = {'Tipo': ['Mensajes', 'Multimedia', 'Emojis', 'Links', 'Encuestas'],\n",
    "        'Cantidad': [total_mensajes, multimedia_mensajes, emojis, links, encuestas]\n",
    "        }\n",
    "\n",
    "#Convertir diccionario a dataframe\n",
    "estadistica_df = pd.DataFrame(estadistica_dict, columns = ['Tipo', 'Cantidad'])\n",
    "\n",
    "# Establecer la columna Tipo como índice\n",
    "estadistica_df = estadistica_df.set_index('Tipo')\n",
    "estadistica_df"
   ]
  },
  {
   "cell_type": "markdown",
   "metadata": {
    "id": "qxSQjfnhMkaj"
   },
   "source": [
    "#### Emojis más usados"
   ]
  },
  {
   "cell_type": "code",
   "execution_count": 111,
   "metadata": {
    "colab": {
     "base_uri": "https://localhost:8080/",
     "height": 431
    },
    "id": "Dqmgb2I6HUg-",
    "outputId": "340c211d-3343-4cae-c031-d4f474f87056"
   },
   "outputs": [
    {
     "name": "stdout",
     "output_type": "stream",
     "text": [
      "Número emojis únicos usados:  104 \n",
      "\n"
     ]
    },
    {
     "data": {
      "text/html": [
       "<div>\n",
       "<style scoped>\n",
       "    .dataframe tbody tr th:only-of-type {\n",
       "        vertical-align: middle;\n",
       "    }\n",
       "\n",
       "    .dataframe tbody tr th {\n",
       "        vertical-align: top;\n",
       "    }\n",
       "\n",
       "    .dataframe thead th {\n",
       "        text-align: right;\n",
       "    }\n",
       "</style>\n",
       "<table border=\"1\" class=\"dataframe\">\n",
       "  <thead>\n",
       "    <tr style=\"text-align: right;\">\n",
       "      <th></th>\n",
       "      <th>Cantidad</th>\n",
       "    </tr>\n",
       "    <tr>\n",
       "      <th>Emoji</th>\n",
       "      <th></th>\n",
       "    </tr>\n",
       "  </thead>\n",
       "  <tbody>\n",
       "    <tr>\n",
       "      <th>🤭</th>\n",
       "      <td>90</td>\n",
       "    </tr>\n",
       "    <tr>\n",
       "      <th>💀</th>\n",
       "      <td>69</td>\n",
       "    </tr>\n",
       "    <tr>\n",
       "      <th>🤣</th>\n",
       "      <td>68</td>\n",
       "    </tr>\n",
       "    <tr>\n",
       "      <th>😁</th>\n",
       "      <td>66</td>\n",
       "    </tr>\n",
       "    <tr>\n",
       "      <th>🕯️</th>\n",
       "      <td>54</td>\n",
       "    </tr>\n",
       "    <tr>\n",
       "      <th>😭</th>\n",
       "      <td>44</td>\n",
       "    </tr>\n",
       "    <tr>\n",
       "      <th>😔</th>\n",
       "      <td>40</td>\n",
       "    </tr>\n",
       "    <tr>\n",
       "      <th>🤡</th>\n",
       "      <td>32</td>\n",
       "    </tr>\n",
       "    <tr>\n",
       "      <th>😂</th>\n",
       "      <td>32</td>\n",
       "    </tr>\n",
       "    <tr>\n",
       "      <th>🥺</th>\n",
       "      <td>25</td>\n",
       "    </tr>\n",
       "  </tbody>\n",
       "</table>\n",
       "</div>"
      ],
      "text/plain": [
       "       Cantidad\n",
       "Emoji          \n",
       "🤭            90\n",
       "💀            69\n",
       "🤣            68\n",
       "😁            66\n",
       "🕯️           54\n",
       "😭            44\n",
       "😔            40\n",
       "🤡            32\n",
       "😂            32\n",
       "🥺            25"
      ]
     },
     "execution_count": 111,
     "metadata": {},
     "output_type": "execute_result"
    }
   ],
   "source": [
    "# Obtener emojis más usados y las cantidades en el chat del grupo del dataframe\n",
    "emojis_lista = list([a for b in df.Emojis for a in b])\n",
    "emoji_diccionario = dict(Counter(emojis_lista))\n",
    "emoji_diccionario = sorted(emoji_diccionario.items(), key=lambda x: x[1], reverse=True)\n",
    "\n",
    "# Convertir el diccionario a dataframe\n",
    "emoji_df = pd.DataFrame(emoji_diccionario, columns=['Emoji', 'Cantidad'])\n",
    "\n",
    "# Establecer la columna Emoji como índice\n",
    "emoji_df = emoji_df.set_index('Emoji')\n",
    "\n",
    "print('Número emojis únicos usados: ', len(emoji_df), '\\n')\n",
    "emoji_df.head(10)"
   ]
  },
  {
   "cell_type": "code",
   "execution_count": 112,
   "metadata": {
    "colab": {
     "base_uri": "https://localhost:8080/",
     "height": 542
    },
    "id": "gUuZ7WIRGgVI",
    "outputId": "8c324573-9baf-4fb4-d712-4abcdeca8ce5"
   },
   "outputs": [
    {
     "data": {
      "application/vnd.plotly.v1+json": {
       "config": {
        "plotlyServerURL": "https://plot.ly"
       },
       "data": [
        {
         "domain": {
          "x": [
           0,
           1
          ],
          "y": [
           0,
           1
          ]
         },
         "hovertemplate": "Emoji=%{label}<br>Cantidad=%{value}<extra></extra>",
         "labels": [
          "🤭",
          "💀",
          "🤣",
          "😁",
          "🕯️",
          "😭",
          "😔",
          "🤡",
          "😂",
          "🥺",
          "😅",
          "🙈",
          "👀",
          "🫣",
          "🙊",
          "😱",
          "📸",
          "🙏🏻",
          "🥳",
          "🧐",
          "🥲",
          "🖕",
          "🙂",
          "😵‍💫",
          "▶️",
          "😍",
          "😈",
          "🖕🏼",
          "😩",
          "😳",
          "🫶🏽",
          "💤",
          "😓",
          "🤑",
          "😎",
          "☹️",
          "🤐",
          "😽",
          "🫂",
          "😮‍💨",
          "💔",
          "👍🏼",
          "🤩",
          "👍",
          "😞",
          "✨",
          "😴",
          "🙃",
          "😻",
          "😌",
          "🥶",
          "🤷🏽‍♂️",
          "😜",
          "🥴",
          "😐",
          "🤦🏻‍♀️",
          "🥵",
          "☠️",
          "🔫",
          "🙄",
          "❌",
          "👆",
          "🎂",
          "😒",
          "🤮",
          "❤️",
          "🤧",
          "🫠",
          "😉",
          "😃",
          "👼",
          "🥰",
          "🖕🏻",
          "🙀",
          "😠",
          "🧙‍♂️",
          "😇",
          "🪃",
          "🍦",
          "🤯",
          "😿",
          "📦",
          "⚰️",
          "😢",
          "🤫",
          "👁️",
          "🥹",
          "⚠️",
          "🤨",
          "👹",
          "😟",
          "😮",
          "🦈",
          "🪄",
          "🤔",
          "🎁",
          "👉🏻",
          "👈🏻",
          "💍",
          "🤓",
          "☝🏽",
          "🦜",
          "😕",
          "❤‍🩹"
         ],
         "legendgroup": "",
         "name": "",
         "showlegend": true,
         "textinfo": "percent+label",
         "textposition": "inside",
         "type": "pie",
         "values": [
          90,
          69,
          68,
          66,
          54,
          44,
          40,
          32,
          32,
          25,
          22,
          21,
          19,
          18,
          18,
          18,
          13,
          12,
          10,
          10,
          10,
          10,
          8,
          7,
          7,
          6,
          6,
          6,
          6,
          6,
          5,
          5,
          5,
          5,
          4,
          4,
          4,
          4,
          3,
          3,
          3,
          3,
          3,
          3,
          3,
          2,
          2,
          2,
          2,
          2,
          2,
          2,
          2,
          2,
          2,
          2,
          2,
          2,
          2,
          2,
          2,
          2,
          2,
          1,
          1,
          1,
          1,
          1,
          1,
          1,
          1,
          1,
          1,
          1,
          1,
          1,
          1,
          1,
          1,
          1,
          1,
          1,
          1,
          1,
          1,
          1,
          1,
          1,
          1,
          1,
          1,
          1,
          1,
          1,
          1,
          1,
          1,
          1,
          1,
          1,
          1,
          1,
          1,
          1
         ]
        }
       ],
       "layout": {
        "legend": {
         "tracegroupgap": 0
        },
        "template": {
         "data": {
          "bar": [
           {
            "error_x": {
             "color": "#2a3f5f"
            },
            "error_y": {
             "color": "#2a3f5f"
            },
            "marker": {
             "line": {
              "color": "#E5ECF6",
              "width": 0.5
             },
             "pattern": {
              "fillmode": "overlay",
              "size": 10,
              "solidity": 0.2
             }
            },
            "type": "bar"
           }
          ],
          "barpolar": [
           {
            "marker": {
             "line": {
              "color": "#E5ECF6",
              "width": 0.5
             },
             "pattern": {
              "fillmode": "overlay",
              "size": 10,
              "solidity": 0.2
             }
            },
            "type": "barpolar"
           }
          ],
          "carpet": [
           {
            "aaxis": {
             "endlinecolor": "#2a3f5f",
             "gridcolor": "white",
             "linecolor": "white",
             "minorgridcolor": "white",
             "startlinecolor": "#2a3f5f"
            },
            "baxis": {
             "endlinecolor": "#2a3f5f",
             "gridcolor": "white",
             "linecolor": "white",
             "minorgridcolor": "white",
             "startlinecolor": "#2a3f5f"
            },
            "type": "carpet"
           }
          ],
          "choropleth": [
           {
            "colorbar": {
             "outlinewidth": 0,
             "ticks": ""
            },
            "type": "choropleth"
           }
          ],
          "contour": [
           {
            "colorbar": {
             "outlinewidth": 0,
             "ticks": ""
            },
            "colorscale": [
             [
              0,
              "#0d0887"
             ],
             [
              0.1111111111111111,
              "#46039f"
             ],
             [
              0.2222222222222222,
              "#7201a8"
             ],
             [
              0.3333333333333333,
              "#9c179e"
             ],
             [
              0.4444444444444444,
              "#bd3786"
             ],
             [
              0.5555555555555556,
              "#d8576b"
             ],
             [
              0.6666666666666666,
              "#ed7953"
             ],
             [
              0.7777777777777778,
              "#fb9f3a"
             ],
             [
              0.8888888888888888,
              "#fdca26"
             ],
             [
              1,
              "#f0f921"
             ]
            ],
            "type": "contour"
           }
          ],
          "contourcarpet": [
           {
            "colorbar": {
             "outlinewidth": 0,
             "ticks": ""
            },
            "type": "contourcarpet"
           }
          ],
          "heatmap": [
           {
            "colorbar": {
             "outlinewidth": 0,
             "ticks": ""
            },
            "colorscale": [
             [
              0,
              "#0d0887"
             ],
             [
              0.1111111111111111,
              "#46039f"
             ],
             [
              0.2222222222222222,
              "#7201a8"
             ],
             [
              0.3333333333333333,
              "#9c179e"
             ],
             [
              0.4444444444444444,
              "#bd3786"
             ],
             [
              0.5555555555555556,
              "#d8576b"
             ],
             [
              0.6666666666666666,
              "#ed7953"
             ],
             [
              0.7777777777777778,
              "#fb9f3a"
             ],
             [
              0.8888888888888888,
              "#fdca26"
             ],
             [
              1,
              "#f0f921"
             ]
            ],
            "type": "heatmap"
           }
          ],
          "heatmapgl": [
           {
            "colorbar": {
             "outlinewidth": 0,
             "ticks": ""
            },
            "colorscale": [
             [
              0,
              "#0d0887"
             ],
             [
              0.1111111111111111,
              "#46039f"
             ],
             [
              0.2222222222222222,
              "#7201a8"
             ],
             [
              0.3333333333333333,
              "#9c179e"
             ],
             [
              0.4444444444444444,
              "#bd3786"
             ],
             [
              0.5555555555555556,
              "#d8576b"
             ],
             [
              0.6666666666666666,
              "#ed7953"
             ],
             [
              0.7777777777777778,
              "#fb9f3a"
             ],
             [
              0.8888888888888888,
              "#fdca26"
             ],
             [
              1,
              "#f0f921"
             ]
            ],
            "type": "heatmapgl"
           }
          ],
          "histogram": [
           {
            "marker": {
             "pattern": {
              "fillmode": "overlay",
              "size": 10,
              "solidity": 0.2
             }
            },
            "type": "histogram"
           }
          ],
          "histogram2d": [
           {
            "colorbar": {
             "outlinewidth": 0,
             "ticks": ""
            },
            "colorscale": [
             [
              0,
              "#0d0887"
             ],
             [
              0.1111111111111111,
              "#46039f"
             ],
             [
              0.2222222222222222,
              "#7201a8"
             ],
             [
              0.3333333333333333,
              "#9c179e"
             ],
             [
              0.4444444444444444,
              "#bd3786"
             ],
             [
              0.5555555555555556,
              "#d8576b"
             ],
             [
              0.6666666666666666,
              "#ed7953"
             ],
             [
              0.7777777777777778,
              "#fb9f3a"
             ],
             [
              0.8888888888888888,
              "#fdca26"
             ],
             [
              1,
              "#f0f921"
             ]
            ],
            "type": "histogram2d"
           }
          ],
          "histogram2dcontour": [
           {
            "colorbar": {
             "outlinewidth": 0,
             "ticks": ""
            },
            "colorscale": [
             [
              0,
              "#0d0887"
             ],
             [
              0.1111111111111111,
              "#46039f"
             ],
             [
              0.2222222222222222,
              "#7201a8"
             ],
             [
              0.3333333333333333,
              "#9c179e"
             ],
             [
              0.4444444444444444,
              "#bd3786"
             ],
             [
              0.5555555555555556,
              "#d8576b"
             ],
             [
              0.6666666666666666,
              "#ed7953"
             ],
             [
              0.7777777777777778,
              "#fb9f3a"
             ],
             [
              0.8888888888888888,
              "#fdca26"
             ],
             [
              1,
              "#f0f921"
             ]
            ],
            "type": "histogram2dcontour"
           }
          ],
          "mesh3d": [
           {
            "colorbar": {
             "outlinewidth": 0,
             "ticks": ""
            },
            "type": "mesh3d"
           }
          ],
          "parcoords": [
           {
            "line": {
             "colorbar": {
              "outlinewidth": 0,
              "ticks": ""
             }
            },
            "type": "parcoords"
           }
          ],
          "pie": [
           {
            "automargin": true,
            "type": "pie"
           }
          ],
          "scatter": [
           {
            "fillpattern": {
             "fillmode": "overlay",
             "size": 10,
             "solidity": 0.2
            },
            "type": "scatter"
           }
          ],
          "scatter3d": [
           {
            "line": {
             "colorbar": {
              "outlinewidth": 0,
              "ticks": ""
             }
            },
            "marker": {
             "colorbar": {
              "outlinewidth": 0,
              "ticks": ""
             }
            },
            "type": "scatter3d"
           }
          ],
          "scattercarpet": [
           {
            "marker": {
             "colorbar": {
              "outlinewidth": 0,
              "ticks": ""
             }
            },
            "type": "scattercarpet"
           }
          ],
          "scattergeo": [
           {
            "marker": {
             "colorbar": {
              "outlinewidth": 0,
              "ticks": ""
             }
            },
            "type": "scattergeo"
           }
          ],
          "scattergl": [
           {
            "marker": {
             "colorbar": {
              "outlinewidth": 0,
              "ticks": ""
             }
            },
            "type": "scattergl"
           }
          ],
          "scattermapbox": [
           {
            "marker": {
             "colorbar": {
              "outlinewidth": 0,
              "ticks": ""
             }
            },
            "type": "scattermapbox"
           }
          ],
          "scatterpolar": [
           {
            "marker": {
             "colorbar": {
              "outlinewidth": 0,
              "ticks": ""
             }
            },
            "type": "scatterpolar"
           }
          ],
          "scatterpolargl": [
           {
            "marker": {
             "colorbar": {
              "outlinewidth": 0,
              "ticks": ""
             }
            },
            "type": "scatterpolargl"
           }
          ],
          "scatterternary": [
           {
            "marker": {
             "colorbar": {
              "outlinewidth": 0,
              "ticks": ""
             }
            },
            "type": "scatterternary"
           }
          ],
          "surface": [
           {
            "colorbar": {
             "outlinewidth": 0,
             "ticks": ""
            },
            "colorscale": [
             [
              0,
              "#0d0887"
             ],
             [
              0.1111111111111111,
              "#46039f"
             ],
             [
              0.2222222222222222,
              "#7201a8"
             ],
             [
              0.3333333333333333,
              "#9c179e"
             ],
             [
              0.4444444444444444,
              "#bd3786"
             ],
             [
              0.5555555555555556,
              "#d8576b"
             ],
             [
              0.6666666666666666,
              "#ed7953"
             ],
             [
              0.7777777777777778,
              "#fb9f3a"
             ],
             [
              0.8888888888888888,
              "#fdca26"
             ],
             [
              1,
              "#f0f921"
             ]
            ],
            "type": "surface"
           }
          ],
          "table": [
           {
            "cells": {
             "fill": {
              "color": "#EBF0F8"
             },
             "line": {
              "color": "white"
             }
            },
            "header": {
             "fill": {
              "color": "#C8D4E3"
             },
             "line": {
              "color": "white"
             }
            },
            "type": "table"
           }
          ]
         },
         "layout": {
          "annotationdefaults": {
           "arrowcolor": "#2a3f5f",
           "arrowhead": 0,
           "arrowwidth": 1
          },
          "autotypenumbers": "strict",
          "coloraxis": {
           "colorbar": {
            "outlinewidth": 0,
            "ticks": ""
           }
          },
          "colorscale": {
           "diverging": [
            [
             0,
             "#8e0152"
            ],
            [
             0.1,
             "#c51b7d"
            ],
            [
             0.2,
             "#de77ae"
            ],
            [
             0.3,
             "#f1b6da"
            ],
            [
             0.4,
             "#fde0ef"
            ],
            [
             0.5,
             "#f7f7f7"
            ],
            [
             0.6,
             "#e6f5d0"
            ],
            [
             0.7,
             "#b8e186"
            ],
            [
             0.8,
             "#7fbc41"
            ],
            [
             0.9,
             "#4d9221"
            ],
            [
             1,
             "#276419"
            ]
           ],
           "sequential": [
            [
             0,
             "#0d0887"
            ],
            [
             0.1111111111111111,
             "#46039f"
            ],
            [
             0.2222222222222222,
             "#7201a8"
            ],
            [
             0.3333333333333333,
             "#9c179e"
            ],
            [
             0.4444444444444444,
             "#bd3786"
            ],
            [
             0.5555555555555556,
             "#d8576b"
            ],
            [
             0.6666666666666666,
             "#ed7953"
            ],
            [
             0.7777777777777778,
             "#fb9f3a"
            ],
            [
             0.8888888888888888,
             "#fdca26"
            ],
            [
             1,
             "#f0f921"
            ]
           ],
           "sequentialminus": [
            [
             0,
             "#0d0887"
            ],
            [
             0.1111111111111111,
             "#46039f"
            ],
            [
             0.2222222222222222,
             "#7201a8"
            ],
            [
             0.3333333333333333,
             "#9c179e"
            ],
            [
             0.4444444444444444,
             "#bd3786"
            ],
            [
             0.5555555555555556,
             "#d8576b"
            ],
            [
             0.6666666666666666,
             "#ed7953"
            ],
            [
             0.7777777777777778,
             "#fb9f3a"
            ],
            [
             0.8888888888888888,
             "#fdca26"
            ],
            [
             1,
             "#f0f921"
            ]
           ]
          },
          "colorway": [
           "#636efa",
           "#EF553B",
           "#00cc96",
           "#ab63fa",
           "#FFA15A",
           "#19d3f3",
           "#FF6692",
           "#B6E880",
           "#FF97FF",
           "#FECB52"
          ],
          "font": {
           "color": "#2a3f5f"
          },
          "geo": {
           "bgcolor": "white",
           "lakecolor": "white",
           "landcolor": "#E5ECF6",
           "showlakes": true,
           "showland": true,
           "subunitcolor": "white"
          },
          "hoverlabel": {
           "align": "left"
          },
          "hovermode": "closest",
          "mapbox": {
           "style": "light"
          },
          "paper_bgcolor": "white",
          "plot_bgcolor": "#E5ECF6",
          "polar": {
           "angularaxis": {
            "gridcolor": "white",
            "linecolor": "white",
            "ticks": ""
           },
           "bgcolor": "#E5ECF6",
           "radialaxis": {
            "gridcolor": "white",
            "linecolor": "white",
            "ticks": ""
           }
          },
          "scene": {
           "xaxis": {
            "backgroundcolor": "#E5ECF6",
            "gridcolor": "white",
            "gridwidth": 2,
            "linecolor": "white",
            "showbackground": true,
            "ticks": "",
            "zerolinecolor": "white"
           },
           "yaxis": {
            "backgroundcolor": "#E5ECF6",
            "gridcolor": "white",
            "gridwidth": 2,
            "linecolor": "white",
            "showbackground": true,
            "ticks": "",
            "zerolinecolor": "white"
           },
           "zaxis": {
            "backgroundcolor": "#E5ECF6",
            "gridcolor": "white",
            "gridwidth": 2,
            "linecolor": "white",
            "showbackground": true,
            "ticks": "",
            "zerolinecolor": "white"
           }
          },
          "shapedefaults": {
           "line": {
            "color": "#2a3f5f"
           }
          },
          "ternary": {
           "aaxis": {
            "gridcolor": "white",
            "linecolor": "white",
            "ticks": ""
           },
           "baxis": {
            "gridcolor": "white",
            "linecolor": "white",
            "ticks": ""
           },
           "bgcolor": "#E5ECF6",
           "caxis": {
            "gridcolor": "white",
            "linecolor": "white",
            "ticks": ""
           }
          },
          "title": {
           "x": 0.05
          },
          "xaxis": {
           "automargin": true,
           "gridcolor": "white",
           "linecolor": "white",
           "ticks": "",
           "title": {
            "standoff": 15
           },
           "zerolinecolor": "white",
           "zerolinewidth": 2
          },
          "yaxis": {
           "automargin": true,
           "gridcolor": "white",
           "linecolor": "white",
           "ticks": "",
           "title": {
            "standoff": 15
           },
           "zerolinecolor": "white",
           "zerolinewidth": 2
          }
         }
        },
        "title": {
         "text": "Pie de emojis"
        }
       }
      }
     },
     "metadata": {},
     "output_type": "display_data"
    }
   ],
   "source": [
    "# Plotear el pie de los emojis más usados\n",
    "fig = px.pie(emoji_df, values='Cantidad', names=emoji_df.index, title='Pie de emojis')\n",
    "fig.update_traces(textposition='inside', textinfo='percent+label')\n",
    "fig.show()"
   ]
  },
  {
   "cell_type": "markdown",
   "metadata": {
    "id": "C4FJPwZiQrbU"
   },
   "source": [
    "### Paso 4: Estadísticas de los miembros del grupo"
   ]
  },
  {
   "cell_type": "markdown",
   "metadata": {
    "id": "0FjFf3odQfrw"
   },
   "source": [
    "#### Miembros más activos"
   ]
  },
  {
   "cell_type": "code",
   "execution_count": 113,
   "metadata": {
    "colab": {
     "base_uri": "https://localhost:8080/",
     "height": 423
    },
    "id": "h5k2OxQzB3Te",
    "outputId": "1feeeb15-c669-4d5d-ca33-34c2a7844bc2"
   },
   "outputs": [
    {
     "data": {
      "text/html": [
       "<div>\n",
       "<style scoped>\n",
       "    .dataframe tbody tr th:only-of-type {\n",
       "        vertical-align: middle;\n",
       "    }\n",
       "\n",
       "    .dataframe tbody tr th {\n",
       "        vertical-align: top;\n",
       "    }\n",
       "\n",
       "    .dataframe thead th {\n",
       "        text-align: right;\n",
       "    }\n",
       "</style>\n",
       "<table border=\"1\" class=\"dataframe\">\n",
       "  <thead>\n",
       "    <tr style=\"text-align: right;\">\n",
       "      <th></th>\n",
       "      <th>Miembro</th>\n",
       "      <th>Mensaje</th>\n",
       "    </tr>\n",
       "  </thead>\n",
       "  <tbody>\n",
       "    <tr>\n",
       "      <th>1</th>\n",
       "      <td>Luis David</td>\n",
       "      <td>4199</td>\n",
       "    </tr>\n",
       "    <tr>\n",
       "      <th>2</th>\n",
       "      <td>valentina U</td>\n",
       "      <td>3438</td>\n",
       "    </tr>\n",
       "    <tr>\n",
       "      <th>3</th>\n",
       "      <td>Vivian</td>\n",
       "      <td>3153</td>\n",
       "    </tr>\n",
       "    <tr>\n",
       "      <th>4</th>\n",
       "      <td>Dehider Geronimo</td>\n",
       "      <td>2961</td>\n",
       "    </tr>\n",
       "    <tr>\n",
       "      <th>5</th>\n",
       "      <td>Fanny</td>\n",
       "      <td>2325</td>\n",
       "    </tr>\n",
       "    <tr>\n",
       "      <th>6</th>\n",
       "      <td>ING Frank</td>\n",
       "      <td>1687</td>\n",
       "    </tr>\n",
       "    <tr>\n",
       "      <th>7</th>\n",
       "      <td>Sergio Otero</td>\n",
       "      <td>1383</td>\n",
       "    </tr>\n",
       "    <tr>\n",
       "      <th>8</th>\n",
       "      <td>Sindy</td>\n",
       "      <td>853</td>\n",
       "    </tr>\n",
       "    <tr>\n",
       "      <th>9</th>\n",
       "      <td>DIEGO ALVAREZ U</td>\n",
       "      <td>71</td>\n",
       "    </tr>\n",
       "  </tbody>\n",
       "</table>\n",
       "</div>"
      ],
      "text/plain": [
       "            Miembro  Mensaje\n",
       "1        Luis David     4199\n",
       "2       valentina U     3438\n",
       "3            Vivian     3153\n",
       "4  Dehider Geronimo     2961\n",
       "5             Fanny     2325\n",
       "6         ING Frank     1687\n",
       "7      Sergio Otero     1383\n",
       "8             Sindy      853\n",
       "9   DIEGO ALVAREZ U       71"
      ]
     },
     "execution_count": 113,
     "metadata": {},
     "output_type": "execute_result"
    }
   ],
   "source": [
    "# Determinar los miembros más activos del grupo\n",
    "df_MiembrosActivos = df.groupby('Miembro')['Mensaje'].count().sort_values(ascending=False).to_frame()\n",
    "df_MiembrosActivos.reset_index(inplace=True)\n",
    "df_MiembrosActivos.index = np.arange(1, len(df_MiembrosActivos)+1)\n",
    "df_MiembrosActivos"
   ]
  },
  {
   "cell_type": "markdown",
   "metadata": {
    "id": "B7cpLqJ3P1v6"
   },
   "source": [
    "#### Estadísticas por miembro"
   ]
  },
  {
   "cell_type": "code",
   "execution_count": 114,
   "metadata": {
    "colab": {
     "base_uri": "https://localhost:8080/",
     "height": 206
    },
    "id": "181xu9goQaAr",
    "outputId": "5499f938-540b-4978-a5fb-d10a8192d5e6"
   },
   "outputs": [
    {
     "data": {
      "text/html": [
       "<div>\n",
       "<style scoped>\n",
       "    .dataframe tbody tr th:only-of-type {\n",
       "        vertical-align: middle;\n",
       "    }\n",
       "\n",
       "    .dataframe tbody tr th {\n",
       "        vertical-align: top;\n",
       "    }\n",
       "\n",
       "    .dataframe thead th {\n",
       "        text-align: right;\n",
       "    }\n",
       "</style>\n",
       "<table border=\"1\" class=\"dataframe\">\n",
       "  <thead>\n",
       "    <tr style=\"text-align: right;\">\n",
       "      <th></th>\n",
       "      <th>Fecha</th>\n",
       "      <th>Hora</th>\n",
       "      <th>Miembro</th>\n",
       "      <th>Mensaje</th>\n",
       "      <th>Emojis</th>\n",
       "      <th>URLs</th>\n",
       "      <th>Letras</th>\n",
       "      <th>Palabras</th>\n",
       "    </tr>\n",
       "  </thead>\n",
       "  <tbody>\n",
       "    <tr>\n",
       "      <th>20064</th>\n",
       "      <td>2024-01-14</td>\n",
       "      <td>2:56 PM</td>\n",
       "      <td>Dehider Geronimo</td>\n",
       "      <td>null</td>\n",
       "      <td>[]</td>\n",
       "      <td>0</td>\n",
       "      <td>4</td>\n",
       "      <td>1</td>\n",
       "    </tr>\n",
       "    <tr>\n",
       "      <th>20065</th>\n",
       "      <td>2024-01-14</td>\n",
       "      <td>2:57 PM</td>\n",
       "      <td>Fanny</td>\n",
       "      <td>JAJAJAJAJJAJAJAJAJAAJJAAJAJAJAJAJAJAJAUJAJAJAJ...</td>\n",
       "      <td>[]</td>\n",
       "      <td>0</td>\n",
       "      <td>79</td>\n",
       "      <td>1</td>\n",
       "    </tr>\n",
       "    <tr>\n",
       "      <th>20066</th>\n",
       "      <td>2024-01-14</td>\n",
       "      <td>2:57 PM</td>\n",
       "      <td>Fanny</td>\n",
       "      <td>Hey pasen esos audios</td>\n",
       "      <td>[]</td>\n",
       "      <td>0</td>\n",
       "      <td>21</td>\n",
       "      <td>4</td>\n",
       "    </tr>\n",
       "    <tr>\n",
       "      <th>20067</th>\n",
       "      <td>2024-01-14</td>\n",
       "      <td>2:57 PM</td>\n",
       "      <td>Fanny</td>\n",
       "      <td>Son la Monda</td>\n",
       "      <td>[]</td>\n",
       "      <td>0</td>\n",
       "      <td>12</td>\n",
       "      <td>3</td>\n",
       "    </tr>\n",
       "    <tr>\n",
       "      <th>20068</th>\n",
       "      <td>2024-01-14</td>\n",
       "      <td>2:58 PM</td>\n",
       "      <td>Dehider Geronimo</td>\n",
       "      <td>Jajaja</td>\n",
       "      <td>[]</td>\n",
       "      <td>0</td>\n",
       "      <td>6</td>\n",
       "      <td>1</td>\n",
       "    </tr>\n",
       "  </tbody>\n",
       "</table>\n",
       "</div>"
      ],
      "text/plain": [
       "           Fecha     Hora           Miembro  \\\n",
       "20064 2024-01-14  2:56 PM  Dehider Geronimo   \n",
       "20065 2024-01-14  2:57 PM             Fanny   \n",
       "20066 2024-01-14  2:57 PM             Fanny   \n",
       "20067 2024-01-14  2:57 PM             Fanny   \n",
       "20068 2024-01-14  2:58 PM  Dehider Geronimo   \n",
       "\n",
       "                                                 Mensaje Emojis  URLs  Letras  \\\n",
       "20064                                               null     []     0       4   \n",
       "20065  JAJAJAJAJJAJAJAJAJAAJJAAJAJAJAJAJAJAJAUJAJAJAJ...     []     0      79   \n",
       "20066                              Hey pasen esos audios     []     0      21   \n",
       "20067                                       Son la Monda     []     0      12   \n",
       "20068                                             Jajaja     []     0       6   \n",
       "\n",
       "       Palabras  \n",
       "20064         1  \n",
       "20065         1  \n",
       "20066         4  \n",
       "20067         3  \n",
       "20068         1  "
      ]
     },
     "execution_count": 114,
     "metadata": {},
     "output_type": "execute_result"
    }
   ],
   "source": [
    "# Separar mensajes (sin multimedia) y multimedia (stickers, fotos, videos)\n",
    "multimedia_df = df[df['Mensaje'] == '<Multimedia omitido>']\n",
    "mensajes_df = df.drop(multimedia_df.index)\n",
    "\n",
    "# Contar la cantidad de palabras y letras por mensaje\n",
    "mensajes_df['Letras'] = mensajes_df['Mensaje'].apply(lambda s : len(s))\n",
    "mensajes_df['Palabras'] = mensajes_df['Mensaje'].apply(lambda s : len(s.split(' ')))\n",
    "mensajes_df.tail()"
   ]
  },
  {
   "cell_type": "code",
   "execution_count": 115,
   "metadata": {
    "colab": {
     "base_uri": "https://localhost:8080/"
    },
    "id": "wCOeAzCONsT1",
    "outputId": "45b6bc5e-bac7-4d43-e6af-8d6d9b3ce149"
   },
   "outputs": [
    {
     "name": "stdout",
     "output_type": "stream",
     "text": [
      "{'Sindy': [812, 5.08128078817734, 41, 177, 2], 'ING Frank': [1295, 4.872586872586872, 392, 102, 2], 'Vivian': [2232, 5.167114695340501, 921, 162, 3], 'Sergio Otero': [1069, 4.736202057998129, 314, 41, 10], 'Luis David': [3831, 5.711824588880188, 368, 143, 9], 'DIEGO ALVAREZ U': [67, 3.7611940298507465, 4, 1, 0], 'valentina U': [3214, 3.888301182327318, 224, 98, 1], 'Fanny': [2179, 3.4827902707664067, 146, 24, 13], 'Dehider Geronimo': [2204, 4.960072595281306, 757, 139, 54]}\n"
     ]
    }
   ],
   "source": [
    "# Obtener a todos los miembros\n",
    "miembros = mensajes_df.Miembro.unique()\n",
    "\n",
    "# Crear diccionario donde se almacenará todos los datos\n",
    "dictionario = {}\n",
    "\n",
    "for i in range(len(miembros)):\n",
    "    lista = []\n",
    "    # Filtrar mensajes de un miembro en específico\n",
    "    miembro_df= mensajes_df[mensajes_df['Miembro'] == miembros[i]]\n",
    "\n",
    "    # Agregar a la lista el número total de mensajes enviados\n",
    "    lista.append(miembro_df.shape[0])\n",
    "    \n",
    "    # Agregar a la lista el número de palabras por total de mensajes (palabras por mensaje)\n",
    "    palabras_por_msj = (np.sum(miembro_df['Palabras']))/miembro_df.shape[0]\n",
    "    lista.append(palabras_por_msj)\n",
    "\n",
    "    # Agregar a la lista el número de mensajes multimedia enviados\n",
    "    multimedia = multimedia_df[multimedia_df['Miembro'] == miembros[i]].shape[0]\n",
    "    lista.append(multimedia)\n",
    "\n",
    "    # Agregar a la lista el número total de emojis enviados\n",
    "    emojis = sum(miembro_df['Emojis'].str.len())\n",
    "    lista.append(emojis)\n",
    "\n",
    "    # Agregar a la lista el número total de links enviados\n",
    "    links = sum(miembro_df['URLs'])\n",
    "    lista.append(links)\n",
    "\n",
    "    # Asignar la lista como valor a la llave del diccionario\n",
    "    dictionario[miembros[i]] = lista\n",
    "    \n",
    "print(dictionario)"
   ]
  },
  {
   "cell_type": "code",
   "execution_count": 116,
   "metadata": {
    "colab": {
     "base_uri": "https://localhost:8080/",
     "height": 990
    },
    "id": "_1J2L5te3cqv",
    "outputId": "251af9ee-9e02-4ff6-ab3a-86e2a3047773"
   },
   "outputs": [
    {
     "data": {
      "text/html": [
       "<div>\n",
       "<style scoped>\n",
       "    .dataframe tbody tr th:only-of-type {\n",
       "        vertical-align: middle;\n",
       "    }\n",
       "\n",
       "    .dataframe tbody tr th {\n",
       "        vertical-align: top;\n",
       "    }\n",
       "\n",
       "    .dataframe thead th {\n",
       "        text-align: right;\n",
       "    }\n",
       "</style>\n",
       "<table border=\"1\" class=\"dataframe\">\n",
       "  <thead>\n",
       "    <tr style=\"text-align: right;\">\n",
       "      <th>Estadísticas</th>\n",
       "      <th>Mensajes</th>\n",
       "      <th>Palabras por mensaje</th>\n",
       "      <th>Multimedia</th>\n",
       "      <th>Emojis</th>\n",
       "      <th>Links</th>\n",
       "    </tr>\n",
       "  </thead>\n",
       "  <tbody>\n",
       "    <tr>\n",
       "      <th>Luis David</th>\n",
       "      <td>3831</td>\n",
       "      <td>5.711825</td>\n",
       "      <td>368</td>\n",
       "      <td>143</td>\n",
       "      <td>9</td>\n",
       "    </tr>\n",
       "    <tr>\n",
       "      <th>valentina U</th>\n",
       "      <td>3214</td>\n",
       "      <td>3.888301</td>\n",
       "      <td>224</td>\n",
       "      <td>98</td>\n",
       "      <td>1</td>\n",
       "    </tr>\n",
       "    <tr>\n",
       "      <th>Vivian</th>\n",
       "      <td>2232</td>\n",
       "      <td>5.167115</td>\n",
       "      <td>921</td>\n",
       "      <td>162</td>\n",
       "      <td>3</td>\n",
       "    </tr>\n",
       "    <tr>\n",
       "      <th>Dehider Geronimo</th>\n",
       "      <td>2204</td>\n",
       "      <td>4.960073</td>\n",
       "      <td>757</td>\n",
       "      <td>139</td>\n",
       "      <td>54</td>\n",
       "    </tr>\n",
       "    <tr>\n",
       "      <th>Fanny</th>\n",
       "      <td>2179</td>\n",
       "      <td>3.482790</td>\n",
       "      <td>146</td>\n",
       "      <td>24</td>\n",
       "      <td>13</td>\n",
       "    </tr>\n",
       "    <tr>\n",
       "      <th>ING Frank</th>\n",
       "      <td>1295</td>\n",
       "      <td>4.872587</td>\n",
       "      <td>392</td>\n",
       "      <td>102</td>\n",
       "      <td>2</td>\n",
       "    </tr>\n",
       "    <tr>\n",
       "      <th>Sergio Otero</th>\n",
       "      <td>1069</td>\n",
       "      <td>4.736202</td>\n",
       "      <td>314</td>\n",
       "      <td>41</td>\n",
       "      <td>10</td>\n",
       "    </tr>\n",
       "    <tr>\n",
       "      <th>Sindy</th>\n",
       "      <td>812</td>\n",
       "      <td>5.081281</td>\n",
       "      <td>41</td>\n",
       "      <td>177</td>\n",
       "      <td>2</td>\n",
       "    </tr>\n",
       "    <tr>\n",
       "      <th>DIEGO ALVAREZ U</th>\n",
       "      <td>67</td>\n",
       "      <td>3.761194</td>\n",
       "      <td>4</td>\n",
       "      <td>1</td>\n",
       "      <td>0</td>\n",
       "    </tr>\n",
       "  </tbody>\n",
       "</table>\n",
       "</div>"
      ],
      "text/plain": [
       "Estadísticas      Mensajes  Palabras por mensaje  Multimedia  Emojis  Links\n",
       "Luis David            3831              5.711825         368     143      9\n",
       "valentina U           3214              3.888301         224      98      1\n",
       "Vivian                2232              5.167115         921     162      3\n",
       "Dehider Geronimo      2204              4.960073         757     139     54\n",
       "Fanny                 2179              3.482790         146      24     13\n",
       "ING Frank             1295              4.872587         392     102      2\n",
       "Sergio Otero          1069              4.736202         314      41     10\n",
       "Sindy                  812              5.081281          41     177      2\n",
       "DIEGO ALVAREZ U         67              3.761194           4       1      0"
      ]
     },
     "execution_count": 116,
     "metadata": {},
     "output_type": "execute_result"
    }
   ],
   "source": [
    "# Convertir de diccionario a dataframe\n",
    "miembro_stats_df = pd.DataFrame.from_dict(dictionario)\n",
    "\n",
    "# Cambiar el índice por la columna agregada 'Estadísticas'\n",
    "estadísticas = ['Mensajes', 'Palabras por mensaje', 'Multimedia', 'Emojis', 'Links']\n",
    "miembro_stats_df['Estadísticas'] = estadísticas\n",
    "miembro_stats_df.set_index('Estadísticas', inplace=True)\n",
    "\n",
    "# Transponer el dataframe\n",
    "miembro_stats_df = miembro_stats_df.T\n",
    "\n",
    "#Convertir a integer las columnas Mensajes, Multimedia Emojis y Links\n",
    "miembro_stats_df['Mensajes'] = miembro_stats_df['Mensajes'].apply(int)\n",
    "miembro_stats_df['Multimedia'] = miembro_stats_df['Multimedia'].apply(int)\n",
    "miembro_stats_df['Emojis'] = miembro_stats_df['Emojis'].apply(int)\n",
    "miembro_stats_df['Links'] = miembro_stats_df['Links'].apply(int)\n",
    "miembro_stats_df.sort_values(by=['Mensajes'], ascending=False)"
   ]
  },
  {
   "cell_type": "markdown",
   "metadata": {
    "id": "V1rlmnZ6_TlY"
   },
   "source": [
    "### Paso 5: Estadísticas del comportamiento del grupo"
   ]
  },
  {
   "cell_type": "code",
   "execution_count": 117,
   "metadata": {},
   "outputs": [
    {
     "data": {
      "text/html": [
       "<div>\n",
       "<style scoped>\n",
       "    .dataframe tbody tr th:only-of-type {\n",
       "        vertical-align: middle;\n",
       "    }\n",
       "\n",
       "    .dataframe tbody tr th {\n",
       "        vertical-align: top;\n",
       "    }\n",
       "\n",
       "    .dataframe thead th {\n",
       "        text-align: right;\n",
       "    }\n",
       "</style>\n",
       "<table border=\"1\" class=\"dataframe\">\n",
       "  <thead>\n",
       "    <tr style=\"text-align: right;\">\n",
       "      <th></th>\n",
       "      <th>Fecha</th>\n",
       "      <th>Hora</th>\n",
       "      <th>Miembro</th>\n",
       "      <th>Mensaje</th>\n",
       "      <th>Emojis</th>\n",
       "      <th>URLs</th>\n",
       "      <th>rangoHora</th>\n",
       "    </tr>\n",
       "  </thead>\n",
       "  <tbody>\n",
       "    <tr>\n",
       "      <th>0</th>\n",
       "      <td>2023-10-31</td>\n",
       "      <td>12:26 AM</td>\n",
       "      <td>Sindy</td>\n",
       "      <td>https://chat.whatsapp.com/Elv3TuhRV9qLFKSOT7APSZ</td>\n",
       "      <td>[]</td>\n",
       "      <td>1</td>\n",
       "      <td>00 - 01 h</td>\n",
       "    </tr>\n",
       "    <tr>\n",
       "      <th>1</th>\n",
       "      <td>2023-10-31</td>\n",
       "      <td>12:26 AM</td>\n",
       "      <td>Sindy</td>\n",
       "      <td>Falta Diego</td>\n",
       "      <td>[]</td>\n",
       "      <td>0</td>\n",
       "      <td>00 - 01 h</td>\n",
       "    </tr>\n",
       "    <tr>\n",
       "      <th>2</th>\n",
       "      <td>2023-10-31</td>\n",
       "      <td>12:26 AM</td>\n",
       "      <td>Sindy</td>\n",
       "      <td>Pasen el link</td>\n",
       "      <td>[]</td>\n",
       "      <td>0</td>\n",
       "      <td>00 - 01 h</td>\n",
       "    </tr>\n",
       "    <tr>\n",
       "      <th>3</th>\n",
       "      <td>2023-10-31</td>\n",
       "      <td>12:26 AM</td>\n",
       "      <td>Sindy</td>\n",
       "      <td>🤭</td>\n",
       "      <td>[🤭]</td>\n",
       "      <td>0</td>\n",
       "      <td>00 - 01 h</td>\n",
       "    </tr>\n",
       "    <tr>\n",
       "      <th>4</th>\n",
       "      <td>2023-10-31</td>\n",
       "      <td>12:26 AM</td>\n",
       "      <td>ING Frank</td>\n",
       "      <td>No lo tengo registrado</td>\n",
       "      <td>[]</td>\n",
       "      <td>0</td>\n",
       "      <td>00 - 01 h</td>\n",
       "    </tr>\n",
       "    <tr>\n",
       "      <th>...</th>\n",
       "      <td>...</td>\n",
       "      <td>...</td>\n",
       "      <td>...</td>\n",
       "      <td>...</td>\n",
       "      <td>...</td>\n",
       "      <td>...</td>\n",
       "      <td>...</td>\n",
       "    </tr>\n",
       "    <tr>\n",
       "      <th>20065</th>\n",
       "      <td>2024-01-14</td>\n",
       "      <td>2:57 PM</td>\n",
       "      <td>Fanny</td>\n",
       "      <td>JAJAJAJAJJAJAJAJAJAAJJAAJAJAJAJAJAJAJAUJAJAJAJ...</td>\n",
       "      <td>[]</td>\n",
       "      <td>0</td>\n",
       "      <td>14 - 15 h</td>\n",
       "    </tr>\n",
       "    <tr>\n",
       "      <th>20066</th>\n",
       "      <td>2024-01-14</td>\n",
       "      <td>2:57 PM</td>\n",
       "      <td>Fanny</td>\n",
       "      <td>Hey pasen esos audios</td>\n",
       "      <td>[]</td>\n",
       "      <td>0</td>\n",
       "      <td>14 - 15 h</td>\n",
       "    </tr>\n",
       "    <tr>\n",
       "      <th>20067</th>\n",
       "      <td>2024-01-14</td>\n",
       "      <td>2:57 PM</td>\n",
       "      <td>Fanny</td>\n",
       "      <td>Son la Monda</td>\n",
       "      <td>[]</td>\n",
       "      <td>0</td>\n",
       "      <td>14 - 15 h</td>\n",
       "    </tr>\n",
       "    <tr>\n",
       "      <th>20068</th>\n",
       "      <td>2024-01-14</td>\n",
       "      <td>2:58 PM</td>\n",
       "      <td>Dehider Geronimo</td>\n",
       "      <td>Jajaja</td>\n",
       "      <td>[]</td>\n",
       "      <td>0</td>\n",
       "      <td>14 - 15 h</td>\n",
       "    </tr>\n",
       "    <tr>\n",
       "      <th>20069</th>\n",
       "      <td>2024-01-14</td>\n",
       "      <td>2:58 PM</td>\n",
       "      <td>Dehider Geronimo</td>\n",
       "      <td>&lt;Multimedia omitido&gt;</td>\n",
       "      <td>[]</td>\n",
       "      <td>0</td>\n",
       "      <td>14 - 15 h</td>\n",
       "    </tr>\n",
       "  </tbody>\n",
       "</table>\n",
       "<p>20070 rows × 7 columns</p>\n",
       "</div>"
      ],
      "text/plain": [
       "           Fecha      Hora           Miembro  \\\n",
       "0     2023-10-31  12:26 AM             Sindy   \n",
       "1     2023-10-31  12:26 AM             Sindy   \n",
       "2     2023-10-31  12:26 AM             Sindy   \n",
       "3     2023-10-31  12:26 AM             Sindy   \n",
       "4     2023-10-31  12:26 AM         ING Frank   \n",
       "...          ...       ...               ...   \n",
       "20065 2024-01-14   2:57 PM             Fanny   \n",
       "20066 2024-01-14   2:57 PM             Fanny   \n",
       "20067 2024-01-14   2:57 PM             Fanny   \n",
       "20068 2024-01-14   2:58 PM  Dehider Geronimo   \n",
       "20069 2024-01-14   2:58 PM  Dehider Geronimo   \n",
       "\n",
       "                                                 Mensaje Emojis  URLs  \\\n",
       "0       https://chat.whatsapp.com/Elv3TuhRV9qLFKSOT7APSZ     []     1   \n",
       "1                                            Falta Diego     []     0   \n",
       "2                                          Pasen el link     []     0   \n",
       "3                                                      🤭    [🤭]     0   \n",
       "4                                 No lo tengo registrado     []     0   \n",
       "...                                                  ...    ...   ...   \n",
       "20065  JAJAJAJAJJAJAJAJAJAAJJAAJAJAJAJAJAJAJAUJAJAJAJ...     []     0   \n",
       "20066                              Hey pasen esos audios     []     0   \n",
       "20067                                       Son la Monda     []     0   \n",
       "20068                                             Jajaja     []     0   \n",
       "20069                               <Multimedia omitido>     []     0   \n",
       "\n",
       "       rangoHora  \n",
       "0      00 - 01 h  \n",
       "1      00 - 01 h  \n",
       "2      00 - 01 h  \n",
       "3      00 - 01 h  \n",
       "4      00 - 01 h  \n",
       "...          ...  \n",
       "20065  14 - 15 h  \n",
       "20066  14 - 15 h  \n",
       "20067  14 - 15 h  \n",
       "20068  14 - 15 h  \n",
       "20069  14 - 15 h  \n",
       "\n",
       "[20070 rows x 7 columns]"
      ]
     },
     "execution_count": 117,
     "metadata": {},
     "output_type": "execute_result"
    }
   ],
   "source": [
    "df['rangoHora'] = pd.to_datetime(df['Hora'], format='%I:%M %p')\n",
    "\n",
    "# Define a function to create the \"Range Hour\" column\n",
    "def create_range_hour(hour):\n",
    "    start_hour = hour.hour\n",
    "    end_hour = (hour + pd.Timedelta(hours=1)).hour\n",
    "    return f'{start_hour:02d} - {end_hour:02d} h'\n",
    "\n",
    "# # Apply the function to create the \"Range Hour\" column\n",
    "df['rangoHora'] = df['rangoHora'].apply(create_range_hour)\n",
    "df"
   ]
  },
  {
   "cell_type": "code",
   "execution_count": 118,
   "metadata": {},
   "outputs": [
    {
     "data": {
      "text/plain": [
       "Fecha        datetime64[ns]\n",
       "Hora                 object\n",
       "Miembro              object\n",
       "Mensaje              object\n",
       "Emojis               object\n",
       "URLs                  int64\n",
       "rangoHora            object\n",
       "dtype: object"
      ]
     },
     "execution_count": 118,
     "metadata": {},
     "output_type": "execute_result"
    }
   ],
   "source": [
    "df.dtypes"
   ]
  },
  {
   "cell_type": "markdown",
   "metadata": {
    "id": "g1je7y67Ow_6"
   },
   "source": [
    "#### Número de mensajes por rango de hora"
   ]
  },
  {
   "cell_type": "code",
   "execution_count": 119,
   "metadata": {
    "colab": {
     "base_uri": "https://localhost:8080/",
     "height": 615
    },
    "id": "X6OZemBtQVaC",
    "outputId": "c1e36183-5d2d-4d57-88af-7493ec550e8c"
   },
   "outputs": [
    {
     "data": {
      "text/plain": [
       "<pandas.core.groupby.generic.DataFrameGroupBy object at 0x0000017A3A0F2D90>"
      ]
     },
     "execution_count": 119,
     "metadata": {},
     "output_type": "execute_result"
    }
   ],
   "source": [
    "# Crear una columna de 1 para realizar el conteo de mensajes\n",
    "df['# Mensajes por hora'] = 1\n",
    "\n",
    "# Sumar (contar) los mensajes que tengan la misma fecha\n",
    "date_df = df.groupby('rangoHora')\n",
    "date_df"
   ]
  },
  {
   "cell_type": "markdown",
   "metadata": {},
   "source": [
    "#### Número de mensajes a través del tiempo"
   ]
  },
  {
   "cell_type": "code",
   "execution_count": 120,
   "metadata": {},
   "outputs": [
    {
     "data": {
      "application/vnd.plotly.v1+json": {
       "config": {
        "plotlyServerURL": "https://plot.ly"
       },
       "data": [
        {
         "hovertemplate": "Fecha=%{x}<br># Mensajes por día=%{y}<extra></extra>",
         "legendgroup": "",
         "line": {
          "color": "#636efa",
          "dash": "solid"
         },
         "marker": {
          "symbol": "circle"
         },
         "mode": "lines",
         "name": "",
         "orientation": "v",
         "showlegend": false,
         "type": "scatter",
         "x": [
          "2023-10-31T00:00:00",
          "2023-11-01T00:00:00",
          "2023-11-02T00:00:00",
          "2023-11-03T00:00:00",
          "2023-11-04T00:00:00",
          "2023-11-05T00:00:00",
          "2023-11-06T00:00:00",
          "2023-11-07T00:00:00",
          "2023-11-08T00:00:00",
          "2023-11-09T00:00:00",
          "2023-11-10T00:00:00",
          "2023-11-11T00:00:00",
          "2023-11-12T00:00:00",
          "2023-11-13T00:00:00",
          "2023-11-14T00:00:00",
          "2023-11-15T00:00:00",
          "2023-11-16T00:00:00",
          "2023-11-17T00:00:00",
          "2023-11-18T00:00:00",
          "2023-11-19T00:00:00",
          "2023-11-20T00:00:00",
          "2023-11-21T00:00:00",
          "2023-11-22T00:00:00",
          "2023-11-23T00:00:00",
          "2023-11-24T00:00:00",
          "2023-11-25T00:00:00",
          "2023-11-26T00:00:00",
          "2023-11-27T00:00:00",
          "2023-11-28T00:00:00",
          "2023-11-29T00:00:00",
          "2023-11-30T00:00:00",
          "2023-12-01T00:00:00",
          "2023-12-02T00:00:00",
          "2023-12-03T00:00:00",
          "2023-12-04T00:00:00",
          "2023-12-05T00:00:00",
          "2023-12-06T00:00:00",
          "2023-12-07T00:00:00",
          "2023-12-08T00:00:00",
          "2023-12-09T00:00:00",
          "2023-12-10T00:00:00",
          "2023-12-11T00:00:00",
          "2023-12-12T00:00:00",
          "2023-12-13T00:00:00",
          "2023-12-14T00:00:00",
          "2023-12-15T00:00:00",
          "2023-12-16T00:00:00",
          "2023-12-17T00:00:00",
          "2023-12-18T00:00:00",
          "2023-12-19T00:00:00",
          "2023-12-20T00:00:00",
          "2023-12-21T00:00:00",
          "2023-12-22T00:00:00",
          "2023-12-23T00:00:00",
          "2023-12-24T00:00:00",
          "2023-12-25T00:00:00",
          "2023-12-26T00:00:00",
          "2023-12-27T00:00:00",
          "2023-12-28T00:00:00",
          "2023-12-29T00:00:00",
          "2023-12-30T00:00:00",
          "2023-12-31T00:00:00",
          "2024-01-01T00:00:00",
          "2024-01-02T00:00:00",
          "2024-01-03T00:00:00",
          "2024-01-04T00:00:00",
          "2024-01-05T00:00:00",
          "2024-01-07T00:00:00",
          "2024-01-08T00:00:00",
          "2024-01-09T00:00:00",
          "2024-01-10T00:00:00",
          "2024-01-12T00:00:00",
          "2024-01-13T00:00:00",
          "2024-01-14T00:00:00"
         ],
         "xaxis": "x",
         "y": [
          123,
          118,
          524,
          872,
          375,
          792,
          416,
          625,
          1318,
          1017,
          245,
          671,
          367,
          152,
          478,
          372,
          450,
          403,
          273,
          187,
          694,
          309,
          314,
          52,
          555,
          347,
          192,
          539,
          270,
          582,
          99,
          145,
          134,
          89,
          575,
          609,
          120,
          233,
          39,
          490,
          502,
          288,
          134,
          666,
          50,
          33,
          163,
          2,
          62,
          356,
          281,
          36,
          51,
          105,
          51,
          62,
          27,
          4,
          25,
          15,
          18,
          20,
          9,
          41,
          182,
          10,
          6,
          78,
          84,
          19,
          16,
          478,
          8,
          23
         ],
         "yaxis": "y"
        }
       ],
       "layout": {
        "font": {
         "size": 17
        },
        "legend": {
         "tracegroupgap": 0
        },
        "margin": {
         "t": 60
        },
        "template": {
         "data": {
          "bar": [
           {
            "error_x": {
             "color": "#2a3f5f"
            },
            "error_y": {
             "color": "#2a3f5f"
            },
            "marker": {
             "line": {
              "color": "#E5ECF6",
              "width": 0.5
             },
             "pattern": {
              "fillmode": "overlay",
              "size": 10,
              "solidity": 0.2
             }
            },
            "type": "bar"
           }
          ],
          "barpolar": [
           {
            "marker": {
             "line": {
              "color": "#E5ECF6",
              "width": 0.5
             },
             "pattern": {
              "fillmode": "overlay",
              "size": 10,
              "solidity": 0.2
             }
            },
            "type": "barpolar"
           }
          ],
          "carpet": [
           {
            "aaxis": {
             "endlinecolor": "#2a3f5f",
             "gridcolor": "white",
             "linecolor": "white",
             "minorgridcolor": "white",
             "startlinecolor": "#2a3f5f"
            },
            "baxis": {
             "endlinecolor": "#2a3f5f",
             "gridcolor": "white",
             "linecolor": "white",
             "minorgridcolor": "white",
             "startlinecolor": "#2a3f5f"
            },
            "type": "carpet"
           }
          ],
          "choropleth": [
           {
            "colorbar": {
             "outlinewidth": 0,
             "ticks": ""
            },
            "type": "choropleth"
           }
          ],
          "contour": [
           {
            "colorbar": {
             "outlinewidth": 0,
             "ticks": ""
            },
            "colorscale": [
             [
              0,
              "#0d0887"
             ],
             [
              0.1111111111111111,
              "#46039f"
             ],
             [
              0.2222222222222222,
              "#7201a8"
             ],
             [
              0.3333333333333333,
              "#9c179e"
             ],
             [
              0.4444444444444444,
              "#bd3786"
             ],
             [
              0.5555555555555556,
              "#d8576b"
             ],
             [
              0.6666666666666666,
              "#ed7953"
             ],
             [
              0.7777777777777778,
              "#fb9f3a"
             ],
             [
              0.8888888888888888,
              "#fdca26"
             ],
             [
              1,
              "#f0f921"
             ]
            ],
            "type": "contour"
           }
          ],
          "contourcarpet": [
           {
            "colorbar": {
             "outlinewidth": 0,
             "ticks": ""
            },
            "type": "contourcarpet"
           }
          ],
          "heatmap": [
           {
            "colorbar": {
             "outlinewidth": 0,
             "ticks": ""
            },
            "colorscale": [
             [
              0,
              "#0d0887"
             ],
             [
              0.1111111111111111,
              "#46039f"
             ],
             [
              0.2222222222222222,
              "#7201a8"
             ],
             [
              0.3333333333333333,
              "#9c179e"
             ],
             [
              0.4444444444444444,
              "#bd3786"
             ],
             [
              0.5555555555555556,
              "#d8576b"
             ],
             [
              0.6666666666666666,
              "#ed7953"
             ],
             [
              0.7777777777777778,
              "#fb9f3a"
             ],
             [
              0.8888888888888888,
              "#fdca26"
             ],
             [
              1,
              "#f0f921"
             ]
            ],
            "type": "heatmap"
           }
          ],
          "heatmapgl": [
           {
            "colorbar": {
             "outlinewidth": 0,
             "ticks": ""
            },
            "colorscale": [
             [
              0,
              "#0d0887"
             ],
             [
              0.1111111111111111,
              "#46039f"
             ],
             [
              0.2222222222222222,
              "#7201a8"
             ],
             [
              0.3333333333333333,
              "#9c179e"
             ],
             [
              0.4444444444444444,
              "#bd3786"
             ],
             [
              0.5555555555555556,
              "#d8576b"
             ],
             [
              0.6666666666666666,
              "#ed7953"
             ],
             [
              0.7777777777777778,
              "#fb9f3a"
             ],
             [
              0.8888888888888888,
              "#fdca26"
             ],
             [
              1,
              "#f0f921"
             ]
            ],
            "type": "heatmapgl"
           }
          ],
          "histogram": [
           {
            "marker": {
             "pattern": {
              "fillmode": "overlay",
              "size": 10,
              "solidity": 0.2
             }
            },
            "type": "histogram"
           }
          ],
          "histogram2d": [
           {
            "colorbar": {
             "outlinewidth": 0,
             "ticks": ""
            },
            "colorscale": [
             [
              0,
              "#0d0887"
             ],
             [
              0.1111111111111111,
              "#46039f"
             ],
             [
              0.2222222222222222,
              "#7201a8"
             ],
             [
              0.3333333333333333,
              "#9c179e"
             ],
             [
              0.4444444444444444,
              "#bd3786"
             ],
             [
              0.5555555555555556,
              "#d8576b"
             ],
             [
              0.6666666666666666,
              "#ed7953"
             ],
             [
              0.7777777777777778,
              "#fb9f3a"
             ],
             [
              0.8888888888888888,
              "#fdca26"
             ],
             [
              1,
              "#f0f921"
             ]
            ],
            "type": "histogram2d"
           }
          ],
          "histogram2dcontour": [
           {
            "colorbar": {
             "outlinewidth": 0,
             "ticks": ""
            },
            "colorscale": [
             [
              0,
              "#0d0887"
             ],
             [
              0.1111111111111111,
              "#46039f"
             ],
             [
              0.2222222222222222,
              "#7201a8"
             ],
             [
              0.3333333333333333,
              "#9c179e"
             ],
             [
              0.4444444444444444,
              "#bd3786"
             ],
             [
              0.5555555555555556,
              "#d8576b"
             ],
             [
              0.6666666666666666,
              "#ed7953"
             ],
             [
              0.7777777777777778,
              "#fb9f3a"
             ],
             [
              0.8888888888888888,
              "#fdca26"
             ],
             [
              1,
              "#f0f921"
             ]
            ],
            "type": "histogram2dcontour"
           }
          ],
          "mesh3d": [
           {
            "colorbar": {
             "outlinewidth": 0,
             "ticks": ""
            },
            "type": "mesh3d"
           }
          ],
          "parcoords": [
           {
            "line": {
             "colorbar": {
              "outlinewidth": 0,
              "ticks": ""
             }
            },
            "type": "parcoords"
           }
          ],
          "pie": [
           {
            "automargin": true,
            "type": "pie"
           }
          ],
          "scatter": [
           {
            "fillpattern": {
             "fillmode": "overlay",
             "size": 10,
             "solidity": 0.2
            },
            "type": "scatter"
           }
          ],
          "scatter3d": [
           {
            "line": {
             "colorbar": {
              "outlinewidth": 0,
              "ticks": ""
             }
            },
            "marker": {
             "colorbar": {
              "outlinewidth": 0,
              "ticks": ""
             }
            },
            "type": "scatter3d"
           }
          ],
          "scattercarpet": [
           {
            "marker": {
             "colorbar": {
              "outlinewidth": 0,
              "ticks": ""
             }
            },
            "type": "scattercarpet"
           }
          ],
          "scattergeo": [
           {
            "marker": {
             "colorbar": {
              "outlinewidth": 0,
              "ticks": ""
             }
            },
            "type": "scattergeo"
           }
          ],
          "scattergl": [
           {
            "marker": {
             "colorbar": {
              "outlinewidth": 0,
              "ticks": ""
             }
            },
            "type": "scattergl"
           }
          ],
          "scattermapbox": [
           {
            "marker": {
             "colorbar": {
              "outlinewidth": 0,
              "ticks": ""
             }
            },
            "type": "scattermapbox"
           }
          ],
          "scatterpolar": [
           {
            "marker": {
             "colorbar": {
              "outlinewidth": 0,
              "ticks": ""
             }
            },
            "type": "scatterpolar"
           }
          ],
          "scatterpolargl": [
           {
            "marker": {
             "colorbar": {
              "outlinewidth": 0,
              "ticks": ""
             }
            },
            "type": "scatterpolargl"
           }
          ],
          "scatterternary": [
           {
            "marker": {
             "colorbar": {
              "outlinewidth": 0,
              "ticks": ""
             }
            },
            "type": "scatterternary"
           }
          ],
          "surface": [
           {
            "colorbar": {
             "outlinewidth": 0,
             "ticks": ""
            },
            "colorscale": [
             [
              0,
              "#0d0887"
             ],
             [
              0.1111111111111111,
              "#46039f"
             ],
             [
              0.2222222222222222,
              "#7201a8"
             ],
             [
              0.3333333333333333,
              "#9c179e"
             ],
             [
              0.4444444444444444,
              "#bd3786"
             ],
             [
              0.5555555555555556,
              "#d8576b"
             ],
             [
              0.6666666666666666,
              "#ed7953"
             ],
             [
              0.7777777777777778,
              "#fb9f3a"
             ],
             [
              0.8888888888888888,
              "#fdca26"
             ],
             [
              1,
              "#f0f921"
             ]
            ],
            "type": "surface"
           }
          ],
          "table": [
           {
            "cells": {
             "fill": {
              "color": "#EBF0F8"
             },
             "line": {
              "color": "white"
             }
            },
            "header": {
             "fill": {
              "color": "#C8D4E3"
             },
             "line": {
              "color": "white"
             }
            },
            "type": "table"
           }
          ]
         },
         "layout": {
          "annotationdefaults": {
           "arrowcolor": "#2a3f5f",
           "arrowhead": 0,
           "arrowwidth": 1
          },
          "autotypenumbers": "strict",
          "coloraxis": {
           "colorbar": {
            "outlinewidth": 0,
            "ticks": ""
           }
          },
          "colorscale": {
           "diverging": [
            [
             0,
             "#8e0152"
            ],
            [
             0.1,
             "#c51b7d"
            ],
            [
             0.2,
             "#de77ae"
            ],
            [
             0.3,
             "#f1b6da"
            ],
            [
             0.4,
             "#fde0ef"
            ],
            [
             0.5,
             "#f7f7f7"
            ],
            [
             0.6,
             "#e6f5d0"
            ],
            [
             0.7,
             "#b8e186"
            ],
            [
             0.8,
             "#7fbc41"
            ],
            [
             0.9,
             "#4d9221"
            ],
            [
             1,
             "#276419"
            ]
           ],
           "sequential": [
            [
             0,
             "#0d0887"
            ],
            [
             0.1111111111111111,
             "#46039f"
            ],
            [
             0.2222222222222222,
             "#7201a8"
            ],
            [
             0.3333333333333333,
             "#9c179e"
            ],
            [
             0.4444444444444444,
             "#bd3786"
            ],
            [
             0.5555555555555556,
             "#d8576b"
            ],
            [
             0.6666666666666666,
             "#ed7953"
            ],
            [
             0.7777777777777778,
             "#fb9f3a"
            ],
            [
             0.8888888888888888,
             "#fdca26"
            ],
            [
             1,
             "#f0f921"
            ]
           ],
           "sequentialminus": [
            [
             0,
             "#0d0887"
            ],
            [
             0.1111111111111111,
             "#46039f"
            ],
            [
             0.2222222222222222,
             "#7201a8"
            ],
            [
             0.3333333333333333,
             "#9c179e"
            ],
            [
             0.4444444444444444,
             "#bd3786"
            ],
            [
             0.5555555555555556,
             "#d8576b"
            ],
            [
             0.6666666666666666,
             "#ed7953"
            ],
            [
             0.7777777777777778,
             "#fb9f3a"
            ],
            [
             0.8888888888888888,
             "#fdca26"
            ],
            [
             1,
             "#f0f921"
            ]
           ]
          },
          "colorway": [
           "#636efa",
           "#EF553B",
           "#00cc96",
           "#ab63fa",
           "#FFA15A",
           "#19d3f3",
           "#FF6692",
           "#B6E880",
           "#FF97FF",
           "#FECB52"
          ],
          "font": {
           "color": "#2a3f5f"
          },
          "geo": {
           "bgcolor": "white",
           "lakecolor": "white",
           "landcolor": "#E5ECF6",
           "showlakes": true,
           "showland": true,
           "subunitcolor": "white"
          },
          "hoverlabel": {
           "align": "left"
          },
          "hovermode": "closest",
          "mapbox": {
           "style": "light"
          },
          "paper_bgcolor": "white",
          "plot_bgcolor": "#E5ECF6",
          "polar": {
           "angularaxis": {
            "gridcolor": "white",
            "linecolor": "white",
            "ticks": ""
           },
           "bgcolor": "#E5ECF6",
           "radialaxis": {
            "gridcolor": "white",
            "linecolor": "white",
            "ticks": ""
           }
          },
          "scene": {
           "xaxis": {
            "backgroundcolor": "#E5ECF6",
            "gridcolor": "white",
            "gridwidth": 2,
            "linecolor": "white",
            "showbackground": true,
            "ticks": "",
            "zerolinecolor": "white"
           },
           "yaxis": {
            "backgroundcolor": "#E5ECF6",
            "gridcolor": "white",
            "gridwidth": 2,
            "linecolor": "white",
            "showbackground": true,
            "ticks": "",
            "zerolinecolor": "white"
           },
           "zaxis": {
            "backgroundcolor": "#E5ECF6",
            "gridcolor": "white",
            "gridwidth": 2,
            "linecolor": "white",
            "showbackground": true,
            "ticks": "",
            "zerolinecolor": "white"
           }
          },
          "shapedefaults": {
           "line": {
            "color": "#2a3f5f"
           }
          },
          "ternary": {
           "aaxis": {
            "gridcolor": "white",
            "linecolor": "white",
            "ticks": ""
           },
           "baxis": {
            "gridcolor": "white",
            "linecolor": "white",
            "ticks": ""
           },
           "bgcolor": "#E5ECF6",
           "caxis": {
            "gridcolor": "white",
            "linecolor": "white",
            "ticks": ""
           }
          },
          "title": {
           "x": 0.05
          },
          "xaxis": {
           "automargin": true,
           "gridcolor": "white",
           "linecolor": "white",
           "ticks": "",
           "title": {
            "standoff": 15
           },
           "zerolinecolor": "white",
           "zerolinewidth": 2
          },
          "yaxis": {
           "automargin": true,
           "gridcolor": "white",
           "linecolor": "white",
           "ticks": "",
           "title": {
            "standoff": 15
           },
           "zerolinecolor": "white",
           "zerolinewidth": 2
          }
         }
        },
        "title": {
         "text": "Cantidad de mensajes vs Tiempo",
         "x": 0.5,
         "xanchor": "center",
         "y": 0.96
        },
        "xaxis": {
         "anchor": "y",
         "domain": [
          0,
          1
         ],
         "nticks": 35,
         "tickangle": 45,
         "title": {
          "text": "Fecha"
         }
        },
        "yaxis": {
         "anchor": "x",
         "domain": [
          0,
          1
         ],
         "title": {
          "text": "# Mensajes"
         }
        }
       }
      }
     },
     "metadata": {},
     "output_type": "display_data"
    }
   ],
   "source": [
    "# Crear una columna de 1 para realizar el conteo de mensajes\n",
    "df['# Mensajes por día'] = 1\n",
    "\n",
    "# Sumar (contar) los mensajes que tengan la misma fecha\n",
    "date_df = df.groupby('Fecha').sum()\n",
    "date_df.reset_index(inplace=True)\n",
    "\n",
    "# Plotear la cantidad de mensajes respecto del tiempo\n",
    "fig = px.line(date_df, x='Fecha', y='# Mensajes por día')\n",
    "\n",
    "# Ajustar el gráfico\n",
    "fig.update_layout(\n",
    "    title={'text': 'Cantidad de mensajes vs Tiempo',\n",
    "             'y':0.96,\n",
    "             'x':0.5,\n",
    "             'xanchor': 'center'},\n",
    "    font=dict(size=17))\n",
    "fig.update_xaxes(title_text='Fecha', tickangle=45, nticks=35)\n",
    "fig.update_yaxes(title_text='# Mensajes')\n",
    "fig.show()"
   ]
  },
  {
   "cell_type": "markdown",
   "metadata": {
    "id": "_siO-ghIOInr"
   },
   "source": [
    "#### Word Cloud de palabras más usadas por el grupo"
   ]
  },
  {
   "cell_type": "code",
   "execution_count": 121,
   "metadata": {
    "colab": {
     "base_uri": "https://localhost:8080/",
     "height": 817
    },
    "id": "y7-gSL_eFWYm",
    "outputId": "c19a0b9c-835e-46ef-9476-4a967314ca68"
   },
   "outputs": [
    {
     "data": {
      "image/jpeg": "[encoded data removed]",
      "image/png": "[encoded data removed]",
      "text/plain": [
       "<PIL.Image.Image image mode=RGB size=1000x700>"
      ]
     },
     "execution_count": 121,
     "metadata": {},
     "output_type": "execute_result"
    }
   ],
   "source": [
    "# Crear un string que contendrá todas las palabras\n",
    "total_palabras = ' '\n",
    "stopwords = STOPWORDS.update(['que', 'qué', 'con', 'de', 'te', 'en', 'la', 'lo', 'le', 'el', 'las', 'los', 'les', 'por', 'es',\n",
    "                              'son', 'se', 'para', 'un', 'una', 'chicos', 'su', 'si', 'chic','nos', 'ya', 'hay', 'esta',\n",
    "                              'pero', 'del', 'mas', 'más', 'eso', 'este', 'como', 'así', 'todo', 'https','Media','omitted',\n",
    "                              'y', 'mi', 'o', 'q', 'yo', 'al', 'porque','porqué','tengo','pa','muy','solo','cuando','igual','hacer'])\n",
    "\n",
    "# Obtener y acumular todas las palabras de cada mensaje\n",
    "for mensaje in mensajes_df['Mensaje'].values:\n",
    "    palabras = str(mensaje).lower().split() # Obtener las palabras de cada línea del txt\n",
    "    for palabra in palabras:\n",
    "        total_palabras = total_palabras + palabra + ' ' # Acumular todas las palabras\n",
    "\n",
    "wordcloud = WordCloud(width = 1000, height = 700,\n",
    "                background_color ='white',\n",
    "                stopwords = stopwords,\n",
    "                min_font_size = 10).generate(total_palabras)\n",
    "\n",
    "# Plotear la nube de palabras más usadas\n",
    "wordcloud.to_image()"
   ]
  }
 ],
 "metadata": {
  "accelerator": "GPU",
  "colab": {
   "machine_shape": "hm",
   "provenance": []
  },
  "kernelspec": {
   "display_name": "Python 3",
   "language": "python",
   "name": "python3"
  },
  "language_info": {
   "codemirror_mode": {
    "name": "ipython",
    "version": 3
   },
   "file_extension": ".py",
   "mimetype": "text/x-python",
   "name": "python",
   "nbconvert_exporter": "python",
   "pygments_lexer": "ipython3",
   "version": "3.11.4"
  }
 },
 "nbformat": 4,
 "nbformat_minor": 1
}
